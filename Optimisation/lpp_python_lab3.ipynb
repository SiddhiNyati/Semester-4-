{
  "nbformat": 4,
  "nbformat_minor": 0,
  "metadata": {
    "colab": {
      "provenance": []
    },
    "kernelspec": {
      "name": "python3",
      "display_name": "Python 3"
    },
    "language_info": {
      "name": "python"
    }
  },
  "cells": [
    {
      "cell_type": "code",
      "source": [
        "#Question 1:\n",
        "from scipy import optimize\n",
        "\n",
        "# Coefficients of the objective function: 50x + 20y + 30z + 80u\n",
        "c = [50,20,30,80]\n",
        "\n",
        "# Coefficients for the inequality constraints: 400x + 200y + 150z + 500u >= 500, 3x + 2y >= 60 , 2x + 2y + 4z + 4u >= 100 ,\n",
        "#2x + 4y + z + 5u >= 800\n",
        "A = [[-400,-200,-150,-500], [-3,-2,-0,-0],[-2,-2,-4,-4],[-2,-4,-1,-5]]\n",
        "\n",
        "# Right-hand side of the inequality constraints\n",
        "b = [-500,-60,-100,-800]\n",
        "\n",
        "# Bounds for variables: x >= 0, y >= 0, z>=0 , u>=0\n",
        "bounds = [(0, None), (0, None) ,(0,None) ,(0,None)]\n",
        "\n",
        "# Solve the linear programming problem using the interior-point method\n",
        "result = optimize.linprog(c, A_ub=A, b_ub=b, bounds=bounds, method='interior-point')\n",
        "\n",
        "# Print the optimal solution\n",
        "print(\"Optimal Solution:\")\n",
        "print(f\"x = {result.x[0]:.2f}\")\n",
        "print(f\"y = {result.x[1]:.2f}\")\n",
        "print(f\"z = {result.x[2]:.2f}\")\n",
        "print(f\"u = {result.x[3]:.2f}\")\n",
        "\n",
        "# Print the optimal value of the objective function\n",
        "print(f\"Optimal Objective Value (minimum cost): Rs.{result.fun:.2f}\")"
      ],
      "metadata": {
        "colab": {
          "base_uri": "https://localhost:8080/"
        },
        "id": "o9MPPdTz3Qpc",
        "outputId": "d62be55a-7cad-4bfb-89fc-1e008a07736a"
      },
      "execution_count": 32,
      "outputs": [
        {
          "output_type": "stream",
          "name": "stdout",
          "text": [
            "Optimal Solution:\n",
            "x = 0.00\n",
            "y = 200.00\n",
            "z = 0.00\n",
            "u = 0.00\n",
            "Optimal Objective Value (minimum cost): Rs.4000.00\n"
          ]
        },
        {
          "output_type": "stream",
          "name": "stderr",
          "text": [
            "<ipython-input-32-36554c5495a2>:17: DeprecationWarning: `method='interior-point'` is deprecated and will be removed in SciPy 1.11.0. Please use one of the HiGHS solvers (e.g. `method='highs'`) in new code.\n",
            "  result = optimize.linprog(c, A_ub=A, b_ub=b, bounds=bounds, method='interior-point')\n"
          ]
        }
      ]
    },
    {
      "cell_type": "code",
      "source": [
        "#Question 2:\n",
        "from scipy import optimize\n",
        "\n",
        "#objective function: 1.5x + 3y\n",
        "c = [1.5, 3]\n",
        "\n",
        "#constraints: 2x + 50y >= 11, 50x + 10y >= 70\n",
        "A = [[-2, -50], [-50, -10]]\n",
        "b = [-11, -70]\n",
        "\n",
        "# Bounds for variables: x >= 0, y >= 0\n",
        "bounds = [(0, None), (0, None)]\n",
        "\n",
        "# Solve the linear programming problem using the interior-point method\n",
        "result = optimize.linprog(c, A_ub=A, b_ub=b, bounds=bounds, method='interior-point')\n",
        "\n",
        "# Print the optimal solution\n",
        "print(\"Optimal Solution:\")\n",
        "print(f\"x = {result.x[0]:.2f}\")\n",
        "print(f\"y = {result.x[1]:.2f}\")\n",
        "\n",
        "# Print the optimal value of the objective function\n",
        "print(f\"Optimal Objective Value (minimum cost): Rs.{result.fun:.2f}\")"
      ],
      "metadata": {
        "colab": {
          "base_uri": "https://localhost:8080/"
        },
        "id": "YwDc5Rab3bnh",
        "outputId": "70cef4bc-e4f6-441b-b052-51ed74f9f03f"
      },
      "execution_count": 33,
      "outputs": [
        {
          "output_type": "stream",
          "name": "stdout",
          "text": [
            "Optimal Solution:\n",
            "x = 1.37\n",
            "y = 0.17\n",
            "Optimal Objective Value (minimum cost): Rs.2.55\n"
          ]
        },
        {
          "output_type": "stream",
          "name": "stderr",
          "text": [
            "<ipython-input-33-56058676d792>:15: DeprecationWarning: `method='interior-point'` is deprecated and will be removed in SciPy 1.11.0. Please use one of the HiGHS solvers (e.g. `method='highs'`) in new code.\n",
            "  result = optimize.linprog(c, A_ub=A, b_ub=b, bounds=bounds, method='interior-point')\n"
          ]
        }
      ]
    },
    {
      "cell_type": "code",
      "source": [
        "#Question 3:\n",
        "from scipy import optimize\n",
        "\n",
        "#objective function: maximise- 10p + 15q + 15r + 13s + 9t\n",
        "c = [-10,-15,-15,-13,-9]\n",
        "\n",
        "#constraints 100p+ 50q + 50r + 40s + 120t <=300 , 40p + 50q + 50r + 15s + 30t <= 40\n",
        "A = [[100,50,50,40,120],[40,50,50,15,30]]\n",
        "b = [300,40]\n",
        "\n",
        "bounds = [(0,1),(0,1),(0,1),(0,1),(0,1)]\n",
        "\n",
        "result = optimize.linprog(c, A_ub=A, b_ub=b, bounds=bounds, method='interior-point')\n",
        "print(\"Optimal Solution:\")\n",
        "print(f\"p = {result.x[0]:.2f}\")\n",
        "print(f\"q = {result.x[1]:.2f}\")\n",
        "print(f\"r = {result.x[2]:.2f}\")\n",
        "print(f\"s = {result.x[3]:.2f}\")\n",
        "print(f\"t = {result.x[4]:.2f}\")\n",
        "\n",
        "# Print the optimal value of the objective function\n",
        "print(f\"Optimal Objective Value (minimum cost): Rs.{-result.fun:.2f}\") #negate the value for maximization"
      ],
      "metadata": {
        "colab": {
          "base_uri": "https://localhost:8080/"
        },
        "id": "rBw1ntVQ3kwq",
        "outputId": "257778e9-5a5c-4cf5-83b0-ef1751cb718b"
      },
      "execution_count": 34,
      "outputs": [
        {
          "output_type": "stream",
          "name": "stdout",
          "text": [
            "Optimal Solution:\n",
            "p = 0.00\n",
            "q = 0.14\n",
            "r = 0.14\n",
            "s = 1.00\n",
            "t = 0.36\n",
            "Optimal Objective Value (minimum cost): Rs.20.50\n"
          ]
        },
        {
          "output_type": "stream",
          "name": "stderr",
          "text": [
            "<ipython-input-34-38b4452c083d>:13: DeprecationWarning: `method='interior-point'` is deprecated and will be removed in SciPy 1.11.0. Please use one of the HiGHS solvers (e.g. `method='highs'`) in new code.\n",
            "  result = optimize.linprog(c, A_ub=A, b_ub=b, bounds=bounds, method='interior-point')\n"
          ]
        }
      ]
    }
  ]
}