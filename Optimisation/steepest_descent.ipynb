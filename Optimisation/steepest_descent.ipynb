{
  "nbformat": 4,
  "nbformat_minor": 0,
  "metadata": {
    "colab": {
      "provenance": []
    },
    "kernelspec": {
      "name": "python3",
      "display_name": "Python 3"
    },
    "language_info": {
      "name": "python"
    }
  },
  "cells": [
    {
      "cell_type": "code",
      "execution_count": 3,
      "metadata": {
        "colab": {
          "base_uri": "https://localhost:8080/"
        },
        "id": "PfX4v9SmRgPo",
        "outputId": "7b562030-4c7d-4a0b-94ec-0a2a40587ba1"
      },
      "outputs": [
        {
          "output_type": "stream",
          "name": "stdout",
          "text": [
            "Iteration 1:\n",
            "X: [0. 0.]\n",
            "Optimal solution: [0. 0.]\n"
          ]
        },
        {
          "output_type": "stream",
          "name": "stderr",
          "text": [
            "<ipython-input-3-c1c5c9724269>:26: DeprecationWarning: Conversion of an array with ndim > 0 to a scalar is deprecated, and will error in future. Ensure you extract a single element from your array before performing this operation. (Deprecated NumPy 1.25.)\n",
            "  lambda_ = float((S_T @ S) / (S_T @ H @ S))\n"
          ]
        }
      ],
      "source": [
        "import numpy as np\n",
        "\n",
        "def f(x1, x2):\n",
        "    return x1**2 - x1*x2 + x2**2\n",
        "\n",
        "def gradient_f(x1, x2):\n",
        "    df_dx1 = 2*x1 - x2\n",
        "    df_dx2 = -x1 + 2*x2\n",
        "    return np.array([df_dx1, df_dx2])\n",
        "\n",
        "def hessian_f(x1, x2):\n",
        "    d2f_dx1x1 = 2\n",
        "    d2f_dx1x2 = -1\n",
        "    d2f_dx2x1 = -1\n",
        "    d2f_dx2x2 = 2\n",
        "    return np.array([[d2f_dx1x1, d2f_dx1x2], [d2f_dx2x1, d2f_dx2x2]])\n",
        "\n",
        "def steepest_descent(X, epsilon=0.0001):\n",
        "    iteration = 1\n",
        "    while True:\n",
        "        grad = gradient_f(X[0], X[1])\n",
        "        S = -grad\n",
        "        S_T = S.reshape(1, -1)\n",
        "        H = hessian_f(X[0], X[1])\n",
        "\n",
        "        lambda_ = float((S_T @ S) / (S_T @ H @ S))\n",
        "\n",
        "        X_new = X + lambda_ * S\n",
        "\n",
        "        print(f\"Iteration {iteration}:\")\n",
        "        print(\"X:\", X_new)\n",
        "\n",
        "        if np.linalg.norm(gradient_f(X_new[0], X_new[1])) < epsilon:\n",
        "            break\n",
        "\n",
        "        X = X_new\n",
        "        iteration += 1\n",
        "\n",
        "    return X_new\n",
        "\n",
        "# Initial point\n",
        "X_initial = np.array([2,2])\n",
        "\n",
        "# Perform steepest descent\n",
        "optimal_solution = steepest_descent(X_initial)\n",
        "print(\"Optimal solution:\", optimal_solution)\n"
      ]
    }
  ]
}