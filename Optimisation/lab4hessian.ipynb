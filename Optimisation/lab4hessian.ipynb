{
  "cells": [
    {
      "cell_type": "markdown",
      "metadata": {
        "id": "sDy51Gvi3g98"
      },
      "source": [
        "**Question 1: Portfolio Selection**"
      ]
    },
    {
      "cell_type": "code",
      "execution_count": null,
      "metadata": {},
      "outputs": [],
      "source": [
        "#Objectibe fuction z= 𝑓(𝑥) = 4𝑥12 + 𝑥22 + 2𝑥1𝑥2 + 6𝑥1 + 2𝑥2\n",
        "\n",
        "import numpy as np\n",
        "from scipy.optimize import minimize\n",
        "\n",
        "\n",
        "def objective_function(x):\n",
        "    return 4*x[0]**2 + x[1] **2+2*x[0]*x[1]+6*x[0]+2*x[1]\n",
        "\n",
        "\n",
        "def lagrangian(x, lambda_):\n",
        "    return objective_function(x) + lambda_ * constraint_function(x)\n",
        "\n",
        "\n",
        "def constraint_function(x):\n",
        "    return 2*x[0] - x[1] - 4  \n",
        "\n",
        "\n",
        "def lagrange_minimization(z):\n",
        "    x = z[:2]  \n",
        "    lambda_ = z[2]  \n",
        "    return lagrangian(x, lambda_)\n",
        "\n",
        "\n",
        "result = minimize(lagrange_minimization, [0, 0, 0], method='SLSQP', constraints={'type': 'eq', 'fun': constraint_function})\n",
        "\n",
        "\n",
        "x_optimized = result.x[:2]\n",
        "lambda_optimized = result.x[2]\n",
        "\n",
        "\n",
        "print(\"Optimized variables:\", x_optimized)\n",
        "print(\"Optimized Lagrange multiplier:\", lambda_optimized)\n",
        "print(\"Optimized objective function value:\", objective_function(x_optimized))"
      ]
    },
    {
      "cell_type": "code",
      "execution_count": 33,
      "metadata": {
        "colab": {
          "base_uri": "https://localhost:8080/"
        },
        "id": "_I2Z4TRyxjY6",
        "outputId": "0a7b6eff-6873-432a-947a-343a5ab98c54"
      },
      "outputs": [
        {
          "name": "stdout",
          "output_type": "stream",
          "text": [
            "Optimal Allocation: [ 8.33333488 -3.33333488]\n",
            "Optimal Return: 95.83333333339014\n"
          ]
        }
      ],
      "source": [
        "from scipy.optimize import minimize\n",
        "\n",
        "# Define the objective function\n",
        "def objective_function(x, theta):\n",
        "    return -(20*x[0] + 16*x[1] - theta*(2*x[0]**2 + x[1]**2 + (x[0] + x[1])**2))\n",
        "\n",
        "# Define the constraint function\n",
        "def constraint_function(x):\n",
        "    return 5 - (x[0] + x[1])\n",
        "\n",
        "# Initial guess\n",
        "x0 = [0, 0]\n",
        "\n",
        "# Set the value for theta\n",
        "theta = 0.1  # You can adjust this value based on the investor's tradeoff\n",
        "\n",
        "# Define the constraint\n",
        "constraint = {'type': 'ineq', 'fun': constraint_function}\n",
        "\n",
        "# Solve the optimization problem\n",
        "result = minimize(objective_function, x0, args=(theta,), constraints=constraint)\n",
        "\n",
        "# Extract the results\n",
        "optimal_allocation = result.x\n",
        "optimal_return = -result.fun  # Negate the result since we maximized the negative of the objective function\n",
        "\n",
        "# Print the results\n",
        "print(\"Optimal Allocation:\", optimal_allocation)\n",
        "print(\"Optimal Return:\", optimal_return)"
      ]
    },
    {
      "cell_type": "code",
      "execution_count": 34,
      "metadata": {
        "colab": {
          "base_uri": "https://localhost:8080/"
        },
        "id": "G25gGinD2Lc3",
        "outputId": "0d9493ab-7146-42ca-89af-082a41d4fd4f"
      },
      "outputs": [
        {
          "name": "stdout",
          "output_type": "stream",
          "text": [
            "Hessian Matrix:\n",
            "[[-0.2  0. ]\n",
            " [ 0.  -0.2]]\n",
            "\n",
            "Principal Minors:\n",
            "[-0.2, 0.04000000000000001]\n",
            "\n",
            "The function has a maxima at the initial guess.\n",
            "The function is concave.\n"
          ]
        }
      ],
      "source": [
        "import numpy as np\n",
        "\n",
        "# Define the objective function\n",
        "def objective_function(x, theta):\n",
        "    return -(20*x[0] + 16*x[1] - theta*(2*x[0]**2 + x[1]**2 + (x[0] + x[1])**2))\n",
        "\n",
        "# Compute the Hessian matrix\n",
        "def hessian_matrix(x, theta):\n",
        "    h11 = -2 * theta\n",
        "    h12 = h21 = 0\n",
        "    h22 = -2 * theta\n",
        "\n",
        "    return np.array([[h11, h12], [h21, h22]])\n",
        "\n",
        "# Compute the principal minors\n",
        "def principal_minors(hessian_matrix):\n",
        "    minors = []\n",
        "    for k in range(1, hessian_matrix.shape[0] + 1):\n",
        "        minor = np.linalg.det(hessian_matrix[:k, :k])\n",
        "        minors.append(minor)\n",
        "    return minors\n",
        "\n",
        "# Set the value for theta\n",
        "theta = 0.1  # You can adjust this value based on the investor's tradeoff\n",
        "\n",
        "# Initial guess\n",
        "x0 = [0, 0]\n",
        "\n",
        "# Compute the Hessian matrix at the initial guess\n",
        "hessian_at_x0 = hessian_matrix(x0, theta)\n",
        "\n",
        "# Compute the principal minors\n",
        "minors_at_x0 = principal_minors(hessian_at_x0)\n",
        "\n",
        "# Check if the Hessian matrix is positive definite, negative definite, inconclusive, or a saddle point\n",
        "is_minima = all(minor > 0 for minor in minors_at_x0)\n",
        "is_maxima = all((i % 2 == 0 and minor > 0) or (i % 2 == 1 and minor < 0) for i, minor in enumerate(minors_at_x0, start=1))\n",
        "is_inconclusive = any(minor == 0 for minor in minors_at_x0)\n",
        "\n",
        "# Print the results\n",
        "print(\"Hessian Matrix:\")\n",
        "print(hessian_at_x0)\n",
        "print(\"\\nPrincipal Minors:\")\n",
        "print(minors_at_x0)\n",
        "\n",
        "if is_minima:\n",
        "    print(\"\\nThe function has a minima at the initial guess.\")\n",
        "    print(\"The function is convex.\")\n",
        "elif is_maxima:\n",
        "    print(\"\\nThe function has a maxima at the initial guess.\")\n",
        "    print(\"The function is concave.\")\n",
        "elif is_inconclusive:\n",
        "    print(\"\\nThe test is inconclusive.\")\n",
        "else:\n",
        "    print(\"\\nThe point is a saddle point. The function is neither concave nor convex.\")\n"
      ]
    },
    {
      "cell_type": "markdown",
      "metadata": {
        "id": "iQ-2tUrR3lxv"
      },
      "source": [
        "**Question 2: Water Resources Planning**"
      ]
    }
  ],
  "metadata": {
    "colab": {
      "provenance": []
    },
    "kernelspec": {
      "display_name": "Python 3",
      "name": "python3"
    },
    "language_info": {
      "name": "python"
    }
  },
  "nbformat": 4,
  "nbformat_minor": 0
}
